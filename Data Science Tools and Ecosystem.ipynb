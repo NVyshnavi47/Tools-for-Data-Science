{
 "cells": [
  {
   "cell_type": "markdown",
   "id": "615fe1bc-e8f9-46f6-9988-fdf62410ef33",
   "metadata": {
    "tags": []
   },
   "source": [
    "# Title of the book\n",
    "#H1 : Data Science Tools and Ecosystem"
   ]
  },
  {
   "cell_type": "markdown",
   "id": "3b15f96f-6b49-4357-9886-a6396a74d8d4",
   "metadata": {
    "tags": []
   },
   "source": [
    "In this notebook, Data Science Tools and Ecosystem are summarized."
   ]
  },
  {
   "cell_type": "markdown",
   "id": "c3370caa-2cf9-481a-8dda-d59ae9ebdaf3",
   "metadata": {},
   "source": [
    "# Some of the popular languages that data scientists use are:\n",
    "1. Python\n",
    "2. R\n",
    "3. SQL\n",
    "4. Java\n",
    "5. Julia\n",
    "6. SAS"
   ]
  },
  {
   "cell_type": "markdown",
   "id": "7b876784-3261-4f6c-9aa3-561fded8b47d",
   "metadata": {},
   "source": [
    "# Some of the commonly used libraries by data scientists include:\n",
    "\n",
    "1. NumPy\n",
    "2. Pandas\n",
    "3. Matplotlib\n",
    "4. Seaborn\n",
    "5. Scikit-learn\n",
    "6. TensorFlow\n",
    "7. Keras\n",
    "8. PyTorch\n",
    "9. SciPy\n",
    "10. Statsmodels"
   ]
  },
  {
   "cell_type": "markdown",
   "id": "e76b5cae-1b57-4abd-818c-785390b34201",
   "metadata": {},
   "source": [
    "| Data Science Tools        |\n",
    "|---------------------------|\n",
    "| Jupyter Notebook          |\n",
    "| RStudio                   |\n",
    "| Apache Zeppelin           |\n"
   ]
  },
  {
   "cell_type": "markdown",
   "id": "0c4a80fa-b279-4bc9-adcf-edd171d56f86",
   "metadata": {
    "tags": []
   },
   "source": [
    "### Below are a few examples of evaluating arithmetic expressions in Python.\n",
    "2+5\n",
    "\n"
   ]
  },
  {
   "cell_type": "markdown",
   "id": "2c2469bc-7d48-4108-aacf-c0cb94f1a116",
   "metadata": {
    "tags": []
   },
   "source": [
    "# This a simple arithmetic expression to mutiply then add integers.\n",
    "(3*4)+5"
   ]
  },
  {
   "cell_type": "code",
   "execution_count": 12,
   "id": "1b453496-d7d5-45e5-8a86-b9aea452ce0a",
   "metadata": {
    "tags": []
   },
   "outputs": [
    {
     "data": {
      "text/plain": [
       "3.3333333333333335"
      ]
     },
     "execution_count": 12,
     "metadata": {},
     "output_type": "execute_result"
    }
   ],
   "source": [
    "# This will convert 200 minutes to hours by dividing by 60.\n",
    "minutes = 200\n",
    "hours = minutes / 60\n",
    "hours\n"
   ]
  },
  {
   "cell_type": "markdown",
   "id": "26e74439-6f1a-4485-acc6-c84521a7c1d5",
   "metadata": {
    "tags": []
   },
   "source": [
    "# Objectives\n",
    "\n",
    "- List popular languages for Data Science\n",
    "- Understand basic arithmetic operations\n",
    "- Create and evaluate simple expressions in Python\n",
    "- Use Markdown cells to document a notebook\n",
    "- Upload a Jupyter Notebook to GitHub\n"
   ]
  },
  {
   "cell_type": "markdown",
   "id": "fc913daa-d556-4a29-8911-4f150373e5ef",
   "metadata": {
    "tags": []
   },
   "source": [
    "## Author\n",
    "\n",
    "# Vyshnavi Nandyala\n"
   ]
  },
  {
   "cell_type": "code",
   "execution_count": null,
   "id": "2afd22f6-ca99-4773-96d1-00534b9e3c2b",
   "metadata": {},
   "outputs": [],
   "source": []
  }
 ],
 "metadata": {
  "kernelspec": {
   "display_name": "Python",
   "language": "python",
   "name": "conda-env-python-py"
  },
  "language_info": {
   "codemirror_mode": {
    "name": "ipython",
    "version": 3
   },
   "file_extension": ".py",
   "mimetype": "text/x-python",
   "name": "python",
   "nbconvert_exporter": "python",
   "pygments_lexer": "ipython3",
   "version": "3.7.12"
  }
 },
 "nbformat": 4,
 "nbformat_minor": 5
}
